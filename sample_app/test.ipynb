{
 "cells": [
  {
   "cell_type": "code",
   "execution_count": 1,
   "id": "7c0b4404",
   "metadata": {},
   "outputs": [],
   "source": [
    "from fastapi import FastAPI\n",
    "from sqlalchemy import create_engine,text\n",
    "import os\n",
    "from dotenv import load_dotenv\n",
    "from urllib.parse import quote_plus\n",
    "from decimal import Decimal\n",
    "\n",
    "#load the env file\n",
    "load_dotenv(\"test.env\")\n",
    "\n",
    "#load the env details\n",
    "user = os.getenv(\"DB_USER\")\n",
    "password = os.getenv(\"DB_PASSWORD\")\n",
    "host = os.getenv(\"DB_HOST\", \"localhost\") \n",
    "database = os.getenv(\"DB_NAME\")\n",
    "port = os.getenv(\"DB_PORT\", 3306)  # default MySQL port\n",
    "password = quote_plus(password)\n",
    "\n",
    "#Create the sql engine\n",
    "engine = create_engine(f\"mysql+pymysql://{user}:{password}@{host}:{port}/{database}\", echo=True)\n",
    "\n",
    "\n",
    "# Helper function to convert Decimal to float\n",
    "def convert_decimals(obj):\n",
    "    for row in obj:\n",
    "        for k, v in row.items():\n",
    "            if isinstance(v, Decimal):\n",
    "                row[k] = float(v)\n",
    "    return obj\n",
    "\n",
    "#Function to load data\n",
    "def load_data():\n",
    "    with engine.connect() as conn:\n",
    "        result=conn.execute(text(\"SELECT * FROM person_info;\"))\n",
    "    rows = [dict(row._mapping) for row in result]\n",
    "    rows = convert_decimals(rows)\n",
    "\n",
    "    return rows"
   ]
  },
  {
   "cell_type": "code",
   "execution_count": 4,
   "id": "6baf915e",
   "metadata": {},
   "outputs": [
    {
     "name": "stdout",
     "output_type": "stream",
     "text": [
      "2025-10-22 17:54:26,672 INFO sqlalchemy.engine.Engine BEGIN (implicit)\n",
      "2025-10-22 17:54:26,674 INFO sqlalchemy.engine.Engine SELECT * FROM person_info;\n",
      "2025-10-22 17:54:26,676 INFO sqlalchemy.engine.Engine [cached since 22.54s ago] {}\n",
      "2025-10-22 17:54:26,679 INFO sqlalchemy.engine.Engine ROLLBACK\n"
     ]
    },
    {
     "data": {
      "text/plain": [
       "[{'id': 'P001',\n",
       "  'name': 'Ananya Verma',\n",
       "  'city': 'Guwahati',\n",
       "  'age': 28,\n",
       "  'gender': 'Female',\n",
       "  'height': 1.65,\n",
       "  'weight': 90.0,\n",
       "  'bmi': 33.06,\n",
       "  'verdict': 'Obese'},\n",
       " {'id': 'P002',\n",
       "  'name': 'Ravi Mehta',\n",
       "  'city': 'Mumbai',\n",
       "  'age': 35,\n",
       "  'gender': 'Male',\n",
       "  'height': 1.75,\n",
       "  'weight': 85.0,\n",
       "  'bmi': 27.76,\n",
       "  'verdict': 'Overweight'},\n",
       " {'id': 'P003',\n",
       "  'name': 'Sneha Kulkarni',\n",
       "  'city': 'Pune',\n",
       "  'age': 22,\n",
       "  'gender': 'Female',\n",
       "  'height': 1.6,\n",
       "  'weight': 45.0,\n",
       "  'bmi': 17.58,\n",
       "  'verdict': 'Underweight'},\n",
       " {'id': 'P004',\n",
       "  'name': 'Arjun Verma',\n",
       "  'city': 'Mumbai',\n",
       "  'age': 40,\n",
       "  'gender': 'Male',\n",
       "  'height': 1.8,\n",
       "  'weight': 90.0,\n",
       "  'bmi': 27.78,\n",
       "  'verdict': 'Normal'},\n",
       " {'id': 'P005',\n",
       "  'name': 'Neha Sinha',\n",
       "  'city': 'Kolkata',\n",
       "  'age': 30,\n",
       "  'gender': 'Female',\n",
       "  'height': 1.55,\n",
       "  'weight': 75.0,\n",
       "  'bmi': 31.22,\n",
       "  'verdict': 'Obese'},\n",
       " {'id': 'P006',\n",
       "  'name': 'Rahul Gupta',\n",
       "  'city': 'Hyderabad',\n",
       "  'age': 19,\n",
       "  'gender': 'Male',\n",
       "  'height': 1.74,\n",
       "  'weight': 55.0,\n",
       "  'bmi': 18.17,\n",
       "  'verdict': 'Underweight'}]"
      ]
     },
     "execution_count": 4,
     "metadata": {},
     "output_type": "execute_result"
    }
   ],
   "source": [
    "load_data()"
   ]
  },
  {
   "cell_type": "code",
   "execution_count": 21,
   "id": "00bd2e48",
   "metadata": {},
   "outputs": [
    {
     "name": "stdout",
     "output_type": "stream",
     "text": [
      "2025-10-22 19:03:48,594 INFO sqlalchemy.engine.Engine BEGIN (implicit)\n",
      "2025-10-22 19:03:48,596 INFO sqlalchemy.engine.Engine SELECT *FROM person_info WHERE id = %(id)s\n",
      "2025-10-22 19:03:48,596 INFO sqlalchemy.engine.Engine [cached since 1375s ago] {'id': 'p001'}\n",
      "2025-10-22 19:03:48,597 INFO sqlalchemy.engine.Engine ROLLBACK\n"
     ]
    }
   ],
   "source": [
    "with engine.connect() as conn:\n",
    "    result = conn.execute(text(\"SELECT *FROM person_info WHERE id = :id\"),\n",
    "        {\"id\": \"p001\"})\n",
    "    val=[dict(row._mapping) for row in result]"
   ]
  },
  {
   "cell_type": "code",
   "execution_count": 23,
   "id": "5b2a881c",
   "metadata": {},
   "outputs": [],
   "source": [
    "existing_vals=val[0]"
   ]
  },
  {
   "cell_type": "code",
   "execution_count": 24,
   "id": "3b5c1c6e",
   "metadata": {},
   "outputs": [
    {
     "data": {
      "text/plain": [
       "{'id': 'P001',\n",
       " 'name': 'Ananya Verma',\n",
       " 'city': 'Guwahati',\n",
       " 'age': 28,\n",
       " 'gender': 'Female',\n",
       " 'height': Decimal('1.65'),\n",
       " 'weight': Decimal('90.00'),\n",
       " 'bmi': Decimal('33.06'),\n",
       " 'verdict': 'Obese'}"
      ]
     },
     "execution_count": 24,
     "metadata": {},
     "output_type": "execute_result"
    }
   ],
   "source": [
    "existing_vals"
   ]
  },
  {
   "cell_type": "code",
   "execution_count": null,
   "id": "db9e710e",
   "metadata": {},
   "outputs": [],
   "source": []
  },
  {
   "cell_type": "code",
   "execution_count": null,
   "id": "2ee263fe",
   "metadata": {},
   "outputs": [],
   "source": []
  }
 ],
 "metadata": {
  "kernelspec": {
   "display_name": "fastapi",
   "language": "python",
   "name": "python3"
  },
  "language_info": {
   "codemirror_mode": {
    "name": "ipython",
    "version": 3
   },
   "file_extension": ".py",
   "mimetype": "text/x-python",
   "name": "python",
   "nbconvert_exporter": "python",
   "pygments_lexer": "ipython3",
   "version": "3.10.12"
  }
 },
 "nbformat": 4,
 "nbformat_minor": 5
}
