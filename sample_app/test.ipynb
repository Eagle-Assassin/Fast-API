{
 "cells": [
  {
   "cell_type": "code",
   "execution_count": 58,
   "id": "7c0b4404",
   "metadata": {},
   "outputs": [],
   "source": [
    "from fastapi import FastAPI\n",
    "from sqlalchemy import create_engine,text\n",
    "import os\n",
    "from dotenv import load_dotenv\n",
    "from urllib.parse import quote_plus\n",
    "from decimal import Decimal\n",
    "\n",
    "#load the env file\n",
    "load_dotenv(\"test.env\")\n",
    "\n",
    "#load the env details\n",
    "user = os.getenv(\"DB_USER\")\n",
    "password = os.getenv(\"DB_PASSWORD\")\n",
    "host = os.getenv(\"DB_HOST\", \"localhost\") \n",
    "database = os.getenv(\"DB_NAME\")\n",
    "port = os.getenv(\"DB_PORT\", 3306)  # default MySQL port\n",
    "password = quote_plus(password)\n",
    "\n",
    "#Create the sql engine\n",
    "engine = create_engine(f\"mysql+pymysql://{user}:{password}@{host}:{port}/{database}\", echo=True)\n",
    "\n",
    "\n",
    "# Helper function to convert Decimal to float\n",
    "def convert_decimals(obj):\n",
    "    for row in obj:\n",
    "        for k, v in row.items():\n",
    "            if isinstance(v, Decimal):\n",
    "                row[k] = float(v)\n",
    "    return obj\n",
    "\n",
    "#Function to load data\n",
    "def load_data():\n",
    "    with engine.connect() as conn:\n",
    "        result=conn.execute(text(\"SELECT * FROM person_info;\"))\n",
    "    rows = [dict(row._mapping) for row in result]\n",
    "    rows = convert_decimals(rows)\n",
    "\n",
    "    return rows"
   ]
  },
  {
   "cell_type": "code",
   "execution_count": 59,
   "id": "6baf915e",
   "metadata": {},
   "outputs": [
    {
     "data": {
      "text/plain": [
       "[]"
      ]
     },
     "execution_count": 59,
     "metadata": {},
     "output_type": "execute_result"
    }
   ],
   "source": [
    "rows\n"
   ]
  },
  {
   "cell_type": "code",
   "execution_count": 78,
   "id": "00bd2e48",
   "metadata": {},
   "outputs": [
    {
     "name": "stdout",
     "output_type": "stream",
     "text": [
      "2025-10-21 20:18:23,466 INFO sqlalchemy.engine.Engine BEGIN (implicit)\n",
      "2025-10-21 20:18:23,467 INFO sqlalchemy.engine.Engine SELECT name, age, city, gender FROM person_info WHERE id = %(id)s\n",
      "2025-10-21 20:18:23,468 INFO sqlalchemy.engine.Engine [cached since 14.98s ago] {'id': 'p0001'}\n",
      "2025-10-21 20:18:23,468 INFO sqlalchemy.engine.Engine ROLLBACK\n"
     ]
    }
   ],
   "source": [
    "with engine.connect() as conn:\n",
    "    result = conn.execute(text(\"SELECT name, age, city, gender FROM person_info WHERE id = :id\"),\n",
    "        {\"id\": \"p0001\"})\n",
    "    val=[dict(row._mapping) for row in result]"
   ]
  },
  {
   "cell_type": "code",
   "execution_count": 81,
   "id": "5b2a881c",
   "metadata": {},
   "outputs": [
    {
     "data": {
      "text/plain": [
       "0"
      ]
     },
     "execution_count": 81,
     "metadata": {},
     "output_type": "execute_result"
    }
   ],
   "source": [
    "len (val)"
   ]
  },
  {
   "cell_type": "code",
   "execution_count": 66,
   "id": "3b5c1c6e",
   "metadata": {},
   "outputs": [
    {
     "data": {
      "text/plain": [
       "{'id': 'P001', 'name': 'Ananya Verma', 'city': 'Guwahati', 'age': 28, 'gender': 'Female', 'height': Decimal('1.65'), 'weight': Decimal('90.00'), 'bmi': Decimal('33.06'), 'verdict': 'Obese'}"
      ]
     },
     "execution_count": 66,
     "metadata": {},
     "output_type": "execute_result"
    }
   ],
   "source": [
    "row._mapping"
   ]
  },
  {
   "cell_type": "code",
   "execution_count": null,
   "id": "db9e710e",
   "metadata": {},
   "outputs": [],
   "source": []
  },
  {
   "cell_type": "code",
   "execution_count": null,
   "id": "2ee263fe",
   "metadata": {},
   "outputs": [],
   "source": []
  }
 ],
 "metadata": {
  "kernelspec": {
   "display_name": "fastapi",
   "language": "python",
   "name": "python3"
  },
  "language_info": {
   "codemirror_mode": {
    "name": "ipython",
    "version": 3
   },
   "file_extension": ".py",
   "mimetype": "text/x-python",
   "name": "python",
   "nbconvert_exporter": "python",
   "pygments_lexer": "ipython3",
   "version": "3.10.12"
  }
 },
 "nbformat": 4,
 "nbformat_minor": 5
}
